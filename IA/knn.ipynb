{
 "cells": [
  {
   "cell_type": "markdown",
   "metadata": {},
   "source": [
    "## Definições para o algoritmo"
   ]
  },
  {
   "cell_type": "markdown",
   "metadata": {},
   "source": [
    "### Classe dos pontos do problema"
   ]
  },
  {
   "cell_type": "code",
   "execution_count": 91,
   "metadata": {},
   "outputs": [],
   "source": [
    "class pontoIris:\n",
    "    def __init__(self, id, largura, comprimento, especie):\n",
    "        self.id = id\n",
    "        self.comprimento = comprimento\n",
    "        self.largura = largura\n",
    "        self.especie = especie\n",
    "        self.distancias = []"
   ]
  },
  {
   "cell_type": "markdown",
   "metadata": {},
   "source": [
    "### Gerar pontos"
   ]
  },
  {
   "cell_type": "code",
   "execution_count": 92,
   "metadata": {},
   "outputs": [],
   "source": [
    "# gera a lista de pontos de treinamento e teste\n",
    "def gerar_conjunto_pontos(lista_ids, lista_larguras, lista_comprimentos, lista_especies):\n",
    "    pontos = []\n",
    "\n",
    "    numero_pontos = len(lista_ids)\n",
    "\n",
    "    for i in range(numero_pontos):\n",
    "        Id = lista_ids[i]\n",
    "        comprimento = lista_comprimentos[i]\n",
    "        largura = lista_larguras[i]\n",
    "        especie = lista_especies[i]\n",
    "\n",
    "        pontos.append(pontoIris(Id, largura, comprimento, especie))\n",
    "\n",
    "    return pontos"
   ]
  },
  {
   "cell_type": "markdown",
   "metadata": {},
   "source": [
    "### Funções de distância"
   ]
  },
  {
   "cell_type": "code",
   "execution_count": 93,
   "metadata": {},
   "outputs": [],
   "source": [
    "import math\n",
    "\n",
    "class Distancia:\n",
    "    def euclidiana(A: pontoIris, B: pontoIris):\n",
    "        diferenca_comprimento = A.comprimento - B.comprimento\n",
    "        diferenca_largura = A.largura - B.largura\n",
    "\n",
    "        return math.sqrt(diferenca_comprimento ** 2 + diferenca_largura ** 2)"
   ]
  },
  {
   "cell_type": "markdown",
   "metadata": {},
   "source": [
    "### Calcular distâncias do ponto atual para o conjunto total"
   ]
  },
  {
   "cell_type": "code",
   "execution_count": 94,
   "metadata": {},
   "outputs": [],
   "source": [
    "def distancias_a_todos_pontos_treinamento(pontos_treinamento, ponto_teste):\n",
    "    distancias = []\n",
    "    \n",
    "    for ponto_treinamento in pontos_treinamento:\n",
    "        distancia = Distancia.euclidiana(ponto_teste, ponto_treinamento)\n",
    "\n",
    "        distancias.append((distancia, ponto_treinamento))\n",
    "\n",
    "    ponto_teste.distancias = sorted(distancias, key=lambda x: x[0])"
   ]
  },
  {
   "cell_type": "markdown",
   "metadata": {},
   "source": [
    "## Implementação do algoritmo KNN"
   ]
  },
  {
   "cell_type": "markdown",
   "metadata": {},
   "source": [
    "### Manipulação dos dados"
   ]
  },
  {
   "cell_type": "markdown",
   "metadata": {},
   "source": [
    "#### Ler"
   ]
  },
  {
   "cell_type": "code",
   "execution_count": 95,
   "metadata": {},
   "outputs": [],
   "source": [
    "import pandas as pd\n",
    "\n",
    "caracteristicas = [\"PetalWidthCm\", \"PetalLengthCm\", \"SepalWidthCm\", \"SepalLengthCm\"]\n",
    "\n",
    "# Lê o database\n",
    "iris = pd.read_csv(\"./Iris.csv\")\n",
    "\n",
    "# Embaralha o database\n",
    "iris = iris.sample(frac=1)"
   ]
  },
  {
   "cell_type": "markdown",
   "metadata": {},
   "source": [
    "#### Separar os conjuntos (treinamento e teste)"
   ]
  },
  {
   "cell_type": "code",
   "execution_count": 96,
   "metadata": {},
   "outputs": [],
   "source": [
    "tamanho_treinamento = round(len(iris) * 0.8)\n",
    "treinamento = iris[:tamanho_treinamento].copy()\n",
    "teste = iris[tamanho_treinamento:].copy()"
   ]
  },
  {
   "cell_type": "markdown",
   "metadata": {},
   "source": [
    "#### Normalizar os dados"
   ]
  },
  {
   "cell_type": "code",
   "execution_count": 97,
   "metadata": {},
   "outputs": [],
   "source": [
    "# Calcula a média e o desvio padrão com base apenas no conjunto de treinamento\n",
    "media_treinamento = treinamento[caracteristicas].mean()\n",
    "desvio_padrao_treinamento = treinamento[caracteristicas].std()\n",
    "\n",
    "treinamento[caracteristicas] = (treinamento[caracteristicas] - media_treinamento) / desvio_padrao_treinamento #normaliza os dados de treino\n",
    "teste[caracteristicas] = (teste[caracteristicas] - media_treinamento) / desvio_padrao_treinamento #normaliza os dados de teste"
   ]
  },
  {
   "cell_type": "markdown",
   "metadata": {},
   "source": [
    "#### Gerar os pontos a serem analisados"
   ]
  },
  {
   "cell_type": "code",
   "execution_count": 98,
   "metadata": {},
   "outputs": [],
   "source": [
    "# gera os pontos de treinamento com base no dataframe e guarda as distancias relativas de todos os pontos de treinamento com cada um desses pontos\n",
    "pontos_treinamento = gerar_conjunto_pontos(\n",
    "    treinamento[\"Id\"].to_list(),\n",
    "    treinamento[\"PetalWidthCm\"].to_list(),\n",
    "    treinamento[\"PetalLengthCm\"].to_list(),\n",
    "    treinamento[\"Species\"].to_list(),\n",
    ")\n",
    "\n",
    "# gera os pontos de teste com base no dataframe e guarda as distancias relativas de todos os pontos de TREINAMENTO com cada um desses pontos\n",
    "pontos_teste = gerar_conjunto_pontos(\n",
    "    teste[\"Id\"].to_list(),\n",
    "    teste[\"PetalWidthCm\"].to_list(),\n",
    "    teste[\"PetalLengthCm\"].to_list(),\n",
    "    teste[\"Species\"].to_list(),\n",
    ")"
   ]
  },
  {
   "cell_type": "markdown",
   "metadata": {},
   "source": [
    "### Algoritmo"
   ]
  },
  {
   "cell_type": "markdown",
   "metadata": {},
   "source": [
    "#### Analisar todos os k's ímpares: [3, 120)"
   ]
  },
  {
   "cell_type": "code",
   "execution_count": 99,
   "metadata": {},
   "outputs": [],
   "source": [
    "from collections import defaultdict\n",
    "\n",
    "# valores_k = [i for i in range(1, len(pontos_treinamento)) if i % 2 != 0]  # valores de k a serem testados (impares)\n",
    "valores_k = range(3, 120, 2)\n",
    "\n",
    "precisao_por_k = {i: 0 for i in valores_k}\n",
    "\n",
    "for k in valores_k:\n",
    "    acertos = 0\n",
    "    for ponto_teste in pontos_teste:\n",
    "        distancias_a_todos_pontos_treinamento(pontos_treinamento, ponto_teste)\n",
    "        vizinhos_mais_proximos = ponto_teste.distancias[:k]\n",
    "        contagem_especies = defaultdict(int)\n",
    "\n",
    "        for _, ponto in vizinhos_mais_proximos:\n",
    "            contagem_especies[ponto.especie] += 1\n",
    "\n",
    "        especie_mais_frequente = max(contagem_especies, key=contagem_especies.get)\n",
    "\n",
    "        if especie_mais_frequente == ponto_teste.especie:\n",
    "            acertos += 1\n",
    "    precisao_por_k[k] = acertos / len(pontos_teste) * 100\n"
   ]
  },
  {
   "cell_type": "markdown",
   "metadata": {},
   "source": [
    "#### Primeiro melhor k"
   ]
  },
  {
   "cell_type": "code",
   "execution_count": 100,
   "metadata": {},
   "outputs": [
    {
     "name": "stdout",
     "output_type": "stream",
     "text": [
      "Melhor valor de k: 3\n",
      "Melhor precisão: 96.66666666666667\n"
     ]
    }
   ],
   "source": [
    "melhor_k = max(precisao_por_k, key=precisao_por_k.get)\n",
    "print(f\"Melhor valor de k: {melhor_k}\")\n",
    "print(f\"Melhor precisão: {precisao_por_k[melhor_k]}\")"
   ]
  },
  {
   "cell_type": "markdown",
   "metadata": {},
   "source": [
    "### Gráfico de todos os k's"
   ]
  },
  {
   "cell_type": "code",
   "execution_count": 101,
   "metadata": {},
   "outputs": [
    {
     "data": {
      "image/png": "[encoded data removed]",
      "text/plain": [
       "<Figure size 640x480 with 1 Axes>"
      ]
     },
     "metadata": {},
     "output_type": "display_data"
    }
   ],
   "source": [
    "from matplotlib import pyplot as plt\n",
    "\n",
    "plt.plot(precisao_por_k.keys(), precisao_por_k.values())\n",
    "plt.xlabel(\"Valor de k\")\n",
    "plt.ylabel(\"Precisão\")\n",
    "plt.title(\"Precisão do KNN para diferentes valores de k\")\n",
    "plt.show()"
   ]
  }
 ],
 "metadata": {
  "kernelspec": {
   "display_name": "Python 3",
   "language": "python",
   "name": "python3"
  },
  "language_info": {
   "codemirror_mode": {
    "name": "ipython",
    "version": 3
   },
   "file_extension": ".py",
   "mimetype": "text/x-python",
   "name": "python",
   "nbconvert_exporter": "python",
   "pygments_lexer": "ipython3",
   "version": "3.12.3"
  }
 },
 "nbformat": 4,
 "nbformat_minor": 2
}
